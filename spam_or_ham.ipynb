{
  "nbformat": 4,
  "nbformat_minor": 0,
  "metadata": {
    "colab": {
      "name": "spam or ham",
      "provenance": []
    },
    "kernelspec": {
      "display_name": "Python 3",
      "name": "python3"
    },
    "language_info": {
      "name": "python"
    }
  },
  "cells": [
    {
      "cell_type": "code",
      "metadata": {
        "id": "2zZg4kHu0IlA"
      },
      "source": [
        "import pandas as pd\n",
        "import numpy as np\n",
        "import matplotlib.pyplot as plt\n",
        "%matplotlib inline\n",
        "import seaborn as sns\n",
        "dataset= pd.read_csv(\"/content/train.csv\")"
      ],
      "execution_count": null,
      "outputs": []
    },
    {
      "cell_type": "code",
      "metadata": {
        "colab": {
          "base_uri": "https://localhost:8080/",
          "height": 343
        },
        "id": "OHRgiy40iQaF",
        "outputId": "ae7abbe7-f73a-4162-a1e8-87a59cf3b5fc"
      },
      "source": [
        "dataset.head(10)"
      ],
      "execution_count": null,
      "outputs": [
        {
          "output_type": "execute_result",
          "data": {
            "text/html": [
              "<div>\n",
              "<style scoped>\n",
              "    .dataframe tbody tr th:only-of-type {\n",
              "        vertical-align: middle;\n",
              "    }\n",
              "\n",
              "    .dataframe tbody tr th {\n",
              "        vertical-align: top;\n",
              "    }\n",
              "\n",
              "    .dataframe thead th {\n",
              "        text-align: right;\n",
              "    }\n",
              "</style>\n",
              "<table border=\"1\" class=\"dataframe\">\n",
              "  <thead>\n",
              "    <tr style=\"text-align: right;\">\n",
              "      <th></th>\n",
              "      <th>'id'</th>\n",
              "      <th>'type'</th>\n",
              "      <th>'text'</th>\n",
              "    </tr>\n",
              "  </thead>\n",
              "  <tbody>\n",
              "    <tr>\n",
              "      <th>0</th>\n",
              "      <td>1</td>\n",
              "      <td>ham</td>\n",
              "      <td>Go until jurong point</td>\n",
              "    </tr>\n",
              "    <tr>\n",
              "      <th>1</th>\n",
              "      <td>2</td>\n",
              "      <td>ham</td>\n",
              "      <td>Ok lar... Joking wif u oni...'</td>\n",
              "    </tr>\n",
              "    <tr>\n",
              "      <th>2</th>\n",
              "      <td>3</td>\n",
              "      <td>spam</td>\n",
              "      <td>Free entry in 2 a wkly comp to win FA Cup fina...</td>\n",
              "    </tr>\n",
              "    <tr>\n",
              "      <th>3</th>\n",
              "      <td>4</td>\n",
              "      <td>ham</td>\n",
              "      <td>U dun say so early hor... U c already then say...</td>\n",
              "    </tr>\n",
              "    <tr>\n",
              "      <th>4</th>\n",
              "      <td>5</td>\n",
              "      <td>ham</td>\n",
              "      <td>Nah I don't think he goes to usf</td>\n",
              "    </tr>\n",
              "    <tr>\n",
              "      <th>5</th>\n",
              "      <td>6</td>\n",
              "      <td>spam</td>\n",
              "      <td>FreeMsg Hey there darling it's been 3 week's n...</td>\n",
              "    </tr>\n",
              "    <tr>\n",
              "      <th>6</th>\n",
              "      <td>7</td>\n",
              "      <td>ham</td>\n",
              "      <td>Even my brother is not like to speak with me. ...</td>\n",
              "    </tr>\n",
              "    <tr>\n",
              "      <th>7</th>\n",
              "      <td>8</td>\n",
              "      <td>ham</td>\n",
              "      <td>As per your request 'Melle Melle (Oru Minnamin...</td>\n",
              "    </tr>\n",
              "    <tr>\n",
              "      <th>8</th>\n",
              "      <td>9</td>\n",
              "      <td>spam</td>\n",
              "      <td>WINNER!! As a valued network customer you have...</td>\n",
              "    </tr>\n",
              "    <tr>\n",
              "      <th>9</th>\n",
              "      <td>10</td>\n",
              "      <td>spam</td>\n",
              "      <td>Had your mobile 11 months or more? U R entitle...</td>\n",
              "    </tr>\n",
              "  </tbody>\n",
              "</table>\n",
              "</div>"
            ],
            "text/plain": [
              "   'id' 'type'                                             'text'\n",
              "0     1    ham                              Go until jurong point\n",
              "1     2    ham                     Ok lar... Joking wif u oni...'\n",
              "2     3   spam  Free entry in 2 a wkly comp to win FA Cup fina...\n",
              "3     4    ham  U dun say so early hor... U c already then say...\n",
              "4     5    ham                   Nah I don't think he goes to usf\n",
              "5     6   spam  FreeMsg Hey there darling it's been 3 week's n...\n",
              "6     7    ham  Even my brother is not like to speak with me. ...\n",
              "7     8    ham  As per your request 'Melle Melle (Oru Minnamin...\n",
              "8     9   spam  WINNER!! As a valued network customer you have...\n",
              "9    10   spam  Had your mobile 11 months or more? U R entitle..."
            ]
          },
          "metadata": {
            "tags": []
          },
          "execution_count": 53
        }
      ]
    },
    {
      "cell_type": "code",
      "metadata": {
        "colab": {
          "base_uri": "https://localhost:8080/",
          "height": 195
        },
        "id": "5fA2nDZQmDDk",
        "outputId": "6fa988d5-70a4-4068-c0ea-cfcba878ef55"
      },
      "source": [
        "\n",
        "dataset.columns=['id','label','message']\n",
        "dataset.head()"
      ],
      "execution_count": null,
      "outputs": [
        {
          "output_type": "execute_result",
          "data": {
            "text/html": [
              "<div>\n",
              "<style scoped>\n",
              "    .dataframe tbody tr th:only-of-type {\n",
              "        vertical-align: middle;\n",
              "    }\n",
              "\n",
              "    .dataframe tbody tr th {\n",
              "        vertical-align: top;\n",
              "    }\n",
              "\n",
              "    .dataframe thead th {\n",
              "        text-align: right;\n",
              "    }\n",
              "</style>\n",
              "<table border=\"1\" class=\"dataframe\">\n",
              "  <thead>\n",
              "    <tr style=\"text-align: right;\">\n",
              "      <th></th>\n",
              "      <th>id</th>\n",
              "      <th>label</th>\n",
              "      <th>message</th>\n",
              "    </tr>\n",
              "  </thead>\n",
              "  <tbody>\n",
              "    <tr>\n",
              "      <th>0</th>\n",
              "      <td>1</td>\n",
              "      <td>ham</td>\n",
              "      <td>Go until jurong point</td>\n",
              "    </tr>\n",
              "    <tr>\n",
              "      <th>1</th>\n",
              "      <td>2</td>\n",
              "      <td>ham</td>\n",
              "      <td>Ok lar... Joking wif u oni...'</td>\n",
              "    </tr>\n",
              "    <tr>\n",
              "      <th>2</th>\n",
              "      <td>3</td>\n",
              "      <td>spam</td>\n",
              "      <td>Free entry in 2 a wkly comp to win FA Cup fina...</td>\n",
              "    </tr>\n",
              "    <tr>\n",
              "      <th>3</th>\n",
              "      <td>4</td>\n",
              "      <td>ham</td>\n",
              "      <td>U dun say so early hor... U c already then say...</td>\n",
              "    </tr>\n",
              "    <tr>\n",
              "      <th>4</th>\n",
              "      <td>5</td>\n",
              "      <td>ham</td>\n",
              "      <td>Nah I don't think he goes to usf</td>\n",
              "    </tr>\n",
              "  </tbody>\n",
              "</table>\n",
              "</div>"
            ],
            "text/plain": [
              "   id label                                            message\n",
              "0   1   ham                              Go until jurong point\n",
              "1   2   ham                     Ok lar... Joking wif u oni...'\n",
              "2   3  spam  Free entry in 2 a wkly comp to win FA Cup fina...\n",
              "3   4   ham  U dun say so early hor... U c already then say...\n",
              "4   5   ham                   Nah I don't think he goes to usf"
            ]
          },
          "metadata": {
            "tags": []
          },
          "execution_count": 71
        }
      ]
    },
    {
      "cell_type": "code",
      "metadata": {
        "colab": {
          "base_uri": "https://localhost:8080/"
        },
        "id": "4XRH--S6oLlj",
        "outputId": "5b3f31d2-8dfc-451b-a813-087875e73b0e"
      },
      "source": [
        "dataset.shape"
      ],
      "execution_count": null,
      "outputs": [
        {
          "output_type": "execute_result",
          "data": {
            "text/plain": [
              "(310, 3)"
            ]
          },
          "metadata": {
            "tags": []
          },
          "execution_count": 55
        }
      ]
    },
    {
      "cell_type": "code",
      "metadata": {
        "colab": {
          "base_uri": "https://localhost:8080/",
          "height": 343
        },
        "id": "Rv4RYYxympIJ",
        "outputId": "8975dc4a-4d84-4a4e-90d6-9bc1852048b5"
      },
      "source": [
        "dataset=dataset.drop(['id'], axis=1)\n",
        "dataset.head(10)"
      ],
      "execution_count": null,
      "outputs": [
        {
          "output_type": "execute_result",
          "data": {
            "text/html": [
              "<div>\n",
              "<style scoped>\n",
              "    .dataframe tbody tr th:only-of-type {\n",
              "        vertical-align: middle;\n",
              "    }\n",
              "\n",
              "    .dataframe tbody tr th {\n",
              "        vertical-align: top;\n",
              "    }\n",
              "\n",
              "    .dataframe thead th {\n",
              "        text-align: right;\n",
              "    }\n",
              "</style>\n",
              "<table border=\"1\" class=\"dataframe\">\n",
              "  <thead>\n",
              "    <tr style=\"text-align: right;\">\n",
              "      <th></th>\n",
              "      <th>label</th>\n",
              "      <th>message</th>\n",
              "    </tr>\n",
              "  </thead>\n",
              "  <tbody>\n",
              "    <tr>\n",
              "      <th>0</th>\n",
              "      <td>ham</td>\n",
              "      <td>Go until jurong point</td>\n",
              "    </tr>\n",
              "    <tr>\n",
              "      <th>1</th>\n",
              "      <td>ham</td>\n",
              "      <td>Ok lar... Joking wif u oni...'</td>\n",
              "    </tr>\n",
              "    <tr>\n",
              "      <th>2</th>\n",
              "      <td>spam</td>\n",
              "      <td>Free entry in 2 a wkly comp to win FA Cup fina...</td>\n",
              "    </tr>\n",
              "    <tr>\n",
              "      <th>3</th>\n",
              "      <td>ham</td>\n",
              "      <td>U dun say so early hor... U c already then say...</td>\n",
              "    </tr>\n",
              "    <tr>\n",
              "      <th>4</th>\n",
              "      <td>ham</td>\n",
              "      <td>Nah I don't think he goes to usf</td>\n",
              "    </tr>\n",
              "    <tr>\n",
              "      <th>5</th>\n",
              "      <td>spam</td>\n",
              "      <td>FreeMsg Hey there darling it's been 3 week's n...</td>\n",
              "    </tr>\n",
              "    <tr>\n",
              "      <th>6</th>\n",
              "      <td>ham</td>\n",
              "      <td>Even my brother is not like to speak with me. ...</td>\n",
              "    </tr>\n",
              "    <tr>\n",
              "      <th>7</th>\n",
              "      <td>ham</td>\n",
              "      <td>As per your request 'Melle Melle (Oru Minnamin...</td>\n",
              "    </tr>\n",
              "    <tr>\n",
              "      <th>8</th>\n",
              "      <td>spam</td>\n",
              "      <td>WINNER!! As a valued network customer you have...</td>\n",
              "    </tr>\n",
              "    <tr>\n",
              "      <th>9</th>\n",
              "      <td>spam</td>\n",
              "      <td>Had your mobile 11 months or more? U R entitle...</td>\n",
              "    </tr>\n",
              "  </tbody>\n",
              "</table>\n",
              "</div>"
            ],
            "text/plain": [
              "  label                                            message\n",
              "0   ham                              Go until jurong point\n",
              "1   ham                     Ok lar... Joking wif u oni...'\n",
              "2  spam  Free entry in 2 a wkly comp to win FA Cup fina...\n",
              "3   ham  U dun say so early hor... U c already then say...\n",
              "4   ham                   Nah I don't think he goes to usf\n",
              "5  spam  FreeMsg Hey there darling it's been 3 week's n...\n",
              "6   ham  Even my brother is not like to speak with me. ...\n",
              "7   ham  As per your request 'Melle Melle (Oru Minnamin...\n",
              "8  spam  WINNER!! As a valued network customer you have...\n",
              "9  spam  Had your mobile 11 months or more? U R entitle..."
            ]
          },
          "metadata": {
            "tags": []
          },
          "execution_count": 73
        }
      ]
    },
    {
      "cell_type": "code",
      "metadata": {
        "colab": {
          "base_uri": "https://localhost:8080/"
        },
        "id": "IcMthrYytmvT",
        "outputId": "790b8d5f-fba8-4e5d-d749-ee844b121511"
      },
      "source": [
        "dataset.isnull().sum()"
      ],
      "execution_count": null,
      "outputs": [
        {
          "output_type": "execute_result",
          "data": {
            "text/plain": [
              "S.No    0\n",
              "type    0\n",
              "text    1\n",
              "dtype: int64"
            ]
          },
          "metadata": {
            "tags": []
          },
          "execution_count": 57
        }
      ]
    },
    {
      "cell_type": "markdown",
      "metadata": {
        "id": "5uNMk7pjwQ0v"
      },
      "source": [
        "# Stemming and Removing Stop Words "
      ]
    },
    {
      "cell_type": "code",
      "metadata": {
        "id": "TgLRImweoxTS",
        "colab": {
          "base_uri": "https://localhost:8080/"
        },
        "outputId": "7ace4553-d905-490f-8baf-1995d4687e61"
      },
      "source": [
        "import nltk\n",
        "import re\n",
        "nltk.download('stopwords')"
      ],
      "execution_count": null,
      "outputs": [
        {
          "output_type": "stream",
          "text": [
            "[nltk_data] Downloading package stopwords to /root/nltk_data...\n",
            "[nltk_data]   Package stopwords is already up-to-date!\n"
          ],
          "name": "stdout"
        },
        {
          "output_type": "execute_result",
          "data": {
            "text/plain": [
              "True"
            ]
          },
          "metadata": {
            "tags": []
          },
          "execution_count": 74
        }
      ]
    },
    {
      "cell_type": "code",
      "metadata": {
        "id": "3teG8uPFCEyW"
      },
      "source": [
        "from nltk.corpus import stopwords\n",
        "from nltk.stem.porter import PorterStemmer\n",
        "ps = PorterStemmer()"
      ],
      "execution_count": null,
      "outputs": []
    },
    {
      "cell_type": "code",
      "metadata": {
        "id": "pZaxjsPDth7V"
      },
      "source": [
        "corpus = []\n",
        "for i in range(0, len(dataset)):\n",
        "    review = re.sub('[^a-zA-Z]', ' ',str(dataset['message'][i]))## replacing all with space other that characters or alphabets \n",
        "    review = review.lower()\n",
        "    review = review.split()\n",
        "    \n",
        "    review = [ps.stem(word) for word in review if not word in stopwords.words('english')]# stemming all the words which are not present in  stopwords \n",
        "    review = ' '.join(review)\n",
        "    corpus.append(review)"
      ],
      "execution_count": null,
      "outputs": []
    },
    {
      "cell_type": "code",
      "metadata": {
        "colab": {
          "base_uri": "https://localhost:8080/"
        },
        "id": "1GFUXY18tovd",
        "outputId": "1dbad038-a766-47de-a702-a565e49db834"
      },
      "source": [
        "print(corpus)"
      ],
      "execution_count": null,
      "outputs": [
        {
          "output_type": "stream",
          "text": [
            "['go jurong point', 'ok lar joke wif u oni', 'free entri wkli comp win fa cup final tkt st may text fa receiv entri question std txt rate c appli', 'u dun say earli hor u c alreadi say', 'nah think goe usf', 'freemsg hey darl week word back like fun still tb ok xxx std chg send', 'even brother like speak treat like aid patent', 'per request mell mell oru minnaminungint nurungu vettam set callertun caller press copi friend callertun', 'winner valu network custom select receivea prize reward claim call claim code kl valid hour', 'mobil month u r entitl updat latest colour mobil camera free call mobil updat co free', 'gonna home soon want talk stuff anymor tonight', 'six chanc win cash', 'urgent week free membership', 'search right word thank breather promis wont take help grant fulfil promis wonder bless time', 'date sunday', 'xxxmobilemovieclub use credit', 'oh k watch', 'eh u rememb spell name ye v naughti make v wet', 'fine way u feel way gota b', 'england v macedonia dont miss goal team news txt ur nation team eg england tri wale', 'serious spell name', 'go tri month ha ha joke', 'pay first lar da stock comin', 'aft finish lunch go str lor ard smth lor u finish ur lunch alreadi', 'ffffffffff alright way meet sooner', 'forc eat slice realli hungri tho suck mark get worri know sick turn pizza lol', 'lol alway convinc', 'catch bu fri egg make tea eat mom left dinner feel love', 'back amp', 'ahhh work vagu rememb feel like lol', 'wait still clear', 'yeah got v apologet n fallen actin like spoilt child got caught till go badli cheer', 'k tell anyth', 'fear faint housework quick cuppa', 'thank subscript rington uk mobil charg month pleas confirm repli ye repli charg', 'yup ok go home look time msg xuhui go learn nd may lesson', 'oop', 'see letter b car', 'anyth lor u decid', 'hello saturday go text see decid anyth tomo tri invit anyth', 'pl go ahead watt want sure great weekend abiola', 'forget tell want', 'rodger burn msg tri call repli sm free nokia mobil free camcord pleas call deliveri tomorrow', 'see', 'great hope like man well endow lt', 'call messag miss call', 'get hep b immunis nigeria', 'fair enough', 'yeah hope', 'u know stubborn even want go hospit kept tell mark weak sucker hospit weak sucker', 'think first time saw class', 'gram usual run like lt', 'k fyi x ride earli tomorrow morn crash place tonight', 'wow never realiz embarass accomod thought like', 'sm ac sptv new jersey devil detroit red wing play ice hockey correct incorrect end repli end sptv', 'know mallika sherawat yesterday find lt', 'congrat year special cinema pass call c suprman v', 'sorri', 'tell reach', 'ye gauti sehwag odi seri', 'gonna pick burger way home even move pain kill', 'ha ha ha good joke girl situat seeker', 'part check iq', 'sorri roommat took forev', 'ok lar doubl check wif da hair dresser alreadi said wun cut v short said cut look nice', 'valu custom', 'today song dedic day song u dedic send ur valuabl frnd first rpli', 'urgent ur award complimentari trip eurodisinc trav', 'hear new divorc barbi come ken stuff', 'plane give month end', 'wah lucki man save money hee', 'finish class', 'hi babe im home wanna someth xx', 'k k perform', 'u call', 'wait machan call free', 'that cool gentleman treat digniti respect', 'like peopl much shi pa', 'oper lt', 'still look job much ta earn', 'sorri', 'k call ah', 'ok way home hi hi', 'place man', 'yup next stop', 'call later', 'real u get yo need ticket one jacket done alreadi use multi', 'ye start send request make pain came back back bed doubl coin factori gotta cash nitro', 'realli still tonight babe', 'ela kano', 'yeah stand close tho catch someth', 'sorri pain ok meet anoth night spent late afternoon casualti mean done stuff moro includ time sheet sorri', 'smile pleasur smile pain smile troubl pour like rain smile sum hurt u smile becoz someon still love see u smile', 'pleas call custom servic repres pm guarante cash prize', 'havent plan buy later check alreadi lido got show e afternoon u finish work alreadi', 'free rington wait collect simpli text password mix verifi get usher britney fml', 'watch telugu movi wat abt u', 'see finish load loan pay', 'hi wk ok hol ye bit run forgot hairdress appoint four need get home n shower beforehand caus prob u', 'see cup coffe anim', 'pleas text anymor noth els say', 'okay name ur price long legal wen pick u ave x am xx', 'still look car buy gone drive test yet', 'per request mell mell oru minnaminungint nurungu vettam set callertun caller press copi friend callertun', 'wow right mean guess gave boston men chang search locat nyc', 'umma life vava umma love lot dear', 'thank lot wish birthday thank make birthday truli memor', 'aight', 'would ip address test consid comput minecraft server', 'know grumpi old peopl mom like better lie alway one play joke', 'dont worri guess busi', 'plural noun research', 'go dinner msg', 'ok wif co like tri new thing scare u dun like mah co u said loud', 'gent tri contact last weekend draw show prize guarante call claim code k valid hr ppm', 'wa', 'enter cabin pa said', 'winner u special select receiv holiday flight inc speak live oper claim p min', 'goodo ye must speak friday egg potato ratio tortilla need', 'hmm uncl inform pay school directli pl buy food', 'privat account statement show unredeem bonu point claim call identifi code expir', 'urgent mobil award bonu caller prize final tri contact u call landlin box wr c', 'new address appl pair malarki', 'today voda number end select receiv award match pleas call quot claim code standard rate app', 'go sao mu today done', 'predict wat time finish buy', 'good stuff', 'know', 'room', 'hey girl r u hope u r well del r bak long time c give call sum time lucyxx', 'k k much cost', 'home', 'dear', 'first answer question', 'sunshin quiz wkli q win top soni dvd player u know countri algarv txt ansr sp tyron', 'want get laid tonight want real dog locat sent direct ur mob join uk largest dog network bt txting gravel nt ec p msg p', 'haf msn yiju hotmail com', 'call meet', 'check room befor activ', 'rcv msg chat svc free hardcor servic text go u get noth u must age verifi yr network tri', 'got c lazi type forgot lect saw pouch like v nice', 'k', 'sir', 'swt thought nver get tire littl thing lovabl person coz somtim littl thing occupi biggest part heart gud ni', 'know pl open back', 'ye see ya dot', 'what staff name take class us', 'freemsg repli text randi', 'ummma call check life begin qatar pl pray hard', 'k delet contact', 'sindu got job birla soft', 'wine flow never', 'yup thk cine better co need go plaza mah', 'ok ur typic repli', 'per request mell mell oru minnaminungint nurungu vettam set callertun caller press copi friend callertun', 'everywher dirt', 'aaooooright work', 'leav hous', 'hello', 'custom servic annonc new year deliveri wait pleas call arrang deliveri', 'winner u special select receiv cash holiday flight inc speak live oper claim', 'keep safe need miss alreadi envi everyon see real life', 'new car hous parent new job hand', 'love excit day spend make happi', 'pl stop bootydeli f invit friend repli ye see www sm ac u bootydeli stop send stop frnd', 'bangbab ur order way u receiv servic msg download ur content u', 'place ur point e cultur modul alreadi', 'urgent tri contact last weekend draw show prize guarante call claim code valid hr', 'hi frnd', 'great escap fanci bridg need lager see tomo', 'ye complet form clark also utter wast', 'sir', 'hmmm thk sure got time hop ard ya', 'time come later', 'bloodi hell', 'well', 'let know got money carlo make call', 'u still go mall', 'turn friend stay whole show back til lt', 'text doesnt repli let know log', 'hi spoke maneesha v like know satisfi experi repli toll free ye', 'lift hope offer money need especi end month approach hurt studi anyway gr weekend', 'lol u trust', 'ok gentleman treat digniti respect', '', 'go noth great bye', 'hello handsom find job lazi work toward get back net mummi boytoy miss', 'haha awesom', 'pleas call custom servic repres freephon pm guarante cash prize', 'got xma radio time get', 'ju reach home go bath first si use net tell u finish k', 'uniqu enough find th august www areyouuniqu co uk', 'sorri join leagu peopl dont keep touch mean great deal friend time even great person cost great week', 'hi final complet cours', 'stop howev suggest stay someon abl give or everi stool', 'hope settl new school year wishin gr day', 'gud mrng dear hav nice day', 'u got person stori', 'hamster dead hey tmr meet pm orchard mrt', 'hi kate even hope see tomorrow bit bloodi babyjontet txt back u xxx', 'found', 'sent lt', 'hello darlin ive finish colleg txt u finish u love kate xxx', 'account refil success inr lt', 'goodmorn sleep ga', 'u call alter ok', 'say like dat dun buy ericsson oso cannot oredi lar', 'enter cabin pa said', 'aight yo', 'pleas give us connect today lt', 'shoot big load get readi', 'bruv', 'home alway chat', 'k k good studi well', 'yup noe leh', 'sound great home', 'final match head toward draw predict', 'tire slept well past night', 'easi ah sen got select mean good', 'take exam march', 'yeah think use gt atm regist sure anyway help let know sure readi', 'ok prob take ur time', 'os call ubandu run without instal hard disk use os copi import file system give repair shop', 'sorri', 'u say leh cours noth happen lar say v romant ju bit lor thk e nite sceneri nice leh', 'new mobil', 'would realli appreci call need someon talk', 'u meet ur dream partner soon ur career flyng start find free', 'hey compani elama po mudyadhu', 'life strict teacher bcoz teacher teach lesson amp', 'dear good morn', 'get gandhipuram walk cross cut road right side lt', 'dear go rubber place', 'sorri batteri die', 'ye tv alway avail work place', 'text meet someon sexi today u find date even flirt u join p repli name age eg sam msg recd thirtyeight penc', 'print oh lt', 'ill littl closer like bu stop street', 'wil reach', 'new theori argument win situat', 'u secret admir look make contact u find r reveal think ur special call', 'tomarrow final hear laptop case cant', 'pleassssssseeeee tel v avent done sportsx', 'okay', 'although told u dat baig face watch realli like e watch u gave co fr u thanx everyth dat u done today', 'u rememb old commerci', 'late said websit dont slipper', 'ask call ok', 'kalli wont bat nd inning', 'didnt work oh ok goodnight fix readi time wake dearli miss good night sleep', 'congratul ur award cd voucher gift guarante free entri wkli draw txt music tnc www ldew com win ppmx age', 'ranjith cal drpd deeraj deepak min hold', 'wen ur lovabl bcum angri wid u', '', 'up day also', 'back', 'necessarili expect done get back though headin', 'mmm yummi babe nice jolt suzi', 'lover need', 'tri contact repli offer video handset anytim network min unlimit text camcord repli call', 'park next mini come today think', 'yup', 'anyway go shop co si done yet dun disturb u liao', 'luton ring ur around h', 'hey realli horni want chat see nake text hot text charg pm unsubscrib text stop', 'dint come us', 'wana plan trip sometm', 'sure yet', 'ur rington servic chang free credit go club mobil com choos content stop txt club stop p wk club po box mk wt', 'evo download flash jealou', 'rington club get uk singl chart mobil week choos top qualiti rington messag free charg', 'come mu', 'night end anoth day', 'hmv bonu special pound genuin hmv voucher answer easi question play send hmv info www percent real com', 'usf guess', 'object bf come', 'thanx', 'tell rob mack gf theater', 'awesom', 'sent type food like', 'done hand celebr full swing yet', 'got call tool', 'nan', 'great comedi cant stop laugh da', 'freemsg feelin kinda lnli hope u like keep compani jst got cam mobi wanna c pic txt repli date msg p rcv hlp stop', 'alright', 'hi', 'sleep nt feel well', 'u switch fone dammit', 'india take lead', 'post l r class', 'tht wat wright brother fli', 'even v good somewhat event laden fill', 'u laugh realli loud u talk spontan u dont care other feel u probabl dear amp', 'laptop take', 'dont file bag work call tell find anyth room', 'wan earli lei outsid wun b home earli neva mind', 'ur chanc win cash everi wk txt action c www movietrivia tv custcar', 'bugi juz wat walk home oredi late repli oso saw top dat like din buy r', 'wish famili merri x ma happi new year advanc', 'go ok na', 'ye post coupl pic fb still snow outsid wake', 'one good partnership go take lead', 'rgent nd attempt contact u u call b csbcm wc n xx callcost ppm mobilesvari max', 'yeah', 'send bec templ na', 'come home class', 'hi ur lookin sauci daytim fun wiv busti marri woman free next week chat sort time janinexx call minmobsmorelkpobox hp fl', 'mostli like', 'v fan']\n"
          ],
          "name": "stdout"
        }
      ]
    },
    {
      "cell_type": "markdown",
      "metadata": {
        "id": "OxEN-OlRD3kQ"
      },
      "source": [
        "# Comparing CountVectorizer and Tf-idf"
      ]
    },
    {
      "cell_type": "code",
      "metadata": {
        "id": "CR1iGXPSFole"
      },
      "source": [
        "from sklearn.feature_extraction.text import CountVectorizer\n",
        "count_vect=CountVectorizer()\n",
        "x1=count_vect.fit_transform(corpus).toarray()"
      ],
      "execution_count": null,
      "outputs": []
    },
    {
      "cell_type": "code",
      "metadata": {
        "colab": {
          "base_uri": "https://localhost:8080/"
        },
        "id": "4OBYG2g-GBOR",
        "outputId": "4128dda1-0953-4e5e-acf8-5d6851eb19a1"
      },
      "source": [
        "print(x1)"
      ],
      "execution_count": null,
      "outputs": [
        {
          "output_type": "stream",
          "text": [
            "[[0 0 0 ... 0 0 0]\n",
            " [0 0 0 ... 0 0 0]\n",
            " [0 0 0 ... 0 0 0]\n",
            " ...\n",
            " [0 0 0 ... 0 0 0]\n",
            " [0 0 0 ... 0 0 0]\n",
            " [0 0 0 ... 0 0 0]]\n"
          ],
          "name": "stdout"
        }
      ]
    },
    {
      "cell_type": "code",
      "metadata": {
        "id": "CYPBkUkuGOiR"
      },
      "source": [
        "from sklearn.feature_extraction.text import TfidfVectorizer\n",
        "tf=TfidfVectorizer()\n",
        "x2=tf.fit_transform(corpus).toarray()"
      ],
      "execution_count": null,
      "outputs": []
    },
    {
      "cell_type": "code",
      "metadata": {
        "colab": {
          "base_uri": "https://localhost:8080/"
        },
        "id": "tQg-BM1nGkE9",
        "outputId": "f65b53cc-1973-48f2-a891-20dbc8c1b6eb"
      },
      "source": [
        "print(x2)"
      ],
      "execution_count": null,
      "outputs": [
        {
          "output_type": "stream",
          "text": [
            "[[0. 0. 0. ... 0. 0. 0.]\n",
            " [0. 0. 0. ... 0. 0. 0.]\n",
            " [0. 0. 0. ... 0. 0. 0.]\n",
            " ...\n",
            " [0. 0. 0. ... 0. 0. 0.]\n",
            " [0. 0. 0. ... 0. 0. 0.]\n",
            " [0. 0. 0. ... 0. 0. 0.]]\n"
          ],
          "name": "stdout"
        }
      ]
    },
    {
      "cell_type": "code",
      "metadata": {
        "id": "9BUZ4uaTIphi"
      },
      "source": [
        "y=pd.get_dummies(dataset['label'])\n",
        "y=y.iloc[:,1].values"
      ],
      "execution_count": null,
      "outputs": []
    },
    {
      "cell_type": "code",
      "metadata": {
        "colab": {
          "base_uri": "https://localhost:8080/"
        },
        "id": "SkvwU5yLJZM5",
        "outputId": "8c2bc5d5-837f-4c8a-ce43-d8dfa39708ac"
      },
      "source": [
        "print(y)"
      ],
      "execution_count": null,
      "outputs": [
        {
          "output_type": "stream",
          "text": [
            "[0 0 1 0 0 1 0 0 1 1 0 1 1 0 0 1 0 0 0 1 0 0 0 0 0 0 0 0 0 0 0 0 0 0 1 0 0\n",
            " 0 0 0 0 0 1 0 0 0 0 0 0 0 0 0 0 0 1 0 1 0 0 0 0 0 0 0 0 1 0 1 1 0 0 0 0 0\n",
            " 0 0 0 0 0 0 0 0 0 0 0 0 0 0 0 0 0 0 0 1 0 1 0 0 0 0 0 0 0 0 0 0 0 0 0 0 0\n",
            " 0 0 0 1 0 0 1 0 0 1 1 0 1 0 0 0 0 0 0 0 0 0 0 1 1 0 0 0 1 0 0 0 0 0 0 0 1\n",
            " 0 0 0 0 0 0 0 0 0 0 0 1 1 0 0 0 1 1 0 1 0 0 0 0 0 0 0 0 0 0 0 0 0 0 0 0 0\n",
            " 0 0 0 1 0 0 1 0 0 0 0 0 0 0 0 0 0 0 0 0 0 0 0 0 0 0 0 0 0 0 0 0 0 0 0 0 0\n",
            " 0 0 0 1 0 1 0 0 0 0 0 0 0 1 0 0 0 0 1 0 0 0 0 0 0 0 0 0 1 0 0 0 0 0 0 0 0\n",
            " 1 0 0 0 0 1 0 0 0 1 0 1 0 0 1 0 0 0 0 0 0 0 0 0 0 1 0 0 0 0 0 0 0 0 0 0 0\n",
            " 0 1 0 0 0 0 0 1 0 0 0 1 0 0]\n"
          ],
          "name": "stdout"
        }
      ]
    },
    {
      "cell_type": "code",
      "metadata": {
        "id": "8ON8RAdWJfkr"
      },
      "source": [
        "#CountVectorizer\n",
        "from sklearn.model_selection import train_test_split\n",
        "x1_train,x1_test,y1_train,y1_test=train_test_split(x1,y,test_size=0.2,random_state=0)\n",
        "\n",
        "from sklearn.naive_bayes import MultinomialNB\n",
        "model1=MultinomialNB().fit(x1_train,y1_train)\n"
      ],
      "execution_count": null,
      "outputs": []
    },
    {
      "cell_type": "code",
      "metadata": {
        "id": "qK7i7DnvLzkU"
      },
      "source": [
        "#TF_IDF\n",
        "\n",
        "x2_train,x2_test,y2_train,y2_test=train_test_split(x2,y,test_size=0.2,random_state=0)\n",
        "model2=MultinomialNB().fit(x2_train,y2_train) "
      ],
      "execution_count": null,
      "outputs": []
    },
    {
      "cell_type": "code",
      "metadata": {
        "colab": {
          "base_uri": "https://localhost:8080/"
        },
        "id": "jxOyd2NiMq1J",
        "outputId": "f0a68376-5aee-4f20-c0fe-076bd6da6c27"
      },
      "source": [
        "#score\n",
        "print('CountVectorizer')\n",
        "print('Training score: ',model1.score(x1_train,y1_train))\n",
        "print('Test score: ',model1.score(x1_test,y1_test))\n",
        "\n",
        "print('TF_IDF')\n",
        "print('Training score: ',model2.score(x2_train,y2_train))\n",
        "print('Test score: ',model2.score(x2_test,y2_test))"
      ],
      "execution_count": null,
      "outputs": [
        {
          "output_type": "stream",
          "text": [
            "CountVectorizer\n",
            "Training score:  0.9959677419354839\n",
            "Test score:  0.8870967741935484\n",
            "TF_IDF\n",
            "Training score:  0.9193548387096774\n",
            "Test score:  0.8709677419354839\n"
          ],
          "name": "stdout"
        }
      ]
    },
    {
      "cell_type": "markdown",
      "metadata": {
        "id": "rCYpy88HNU9H"
      },
      "source": [
        "CountVectorizer has better accuracy than Tfidf"
      ]
    },
    {
      "cell_type": "code",
      "metadata": {
        "id": "W8BHZiIXNdF1"
      },
      "source": [
        "pred=model1.predict(x1_test)\n",
        "from sklearn.metrics import confusion_matrix\n",
        "cm=confusion_matrix(y1_test,pred)"
      ],
      "execution_count": null,
      "outputs": []
    },
    {
      "cell_type": "code",
      "metadata": {
        "colab": {
          "base_uri": "https://localhost:8080/",
          "height": 300
        },
        "id": "YIKJ7QNsOaan",
        "outputId": "cff6925d-4b2f-4c8e-ae98-3807882a8c18"
      },
      "source": [
        "print(\"Confusion Matrix\")\n",
        "plt.figure(figsize=(6,4))\n",
        "sns.heatmap(cm,annot=True, fmt='d',cmap=\"YlGnBu\")"
      ],
      "execution_count": null,
      "outputs": [
        {
          "output_type": "stream",
          "text": [
            "Confusion Matrix\n"
          ],
          "name": "stdout"
        },
        {
          "output_type": "execute_result",
          "data": {
            "text/plain": [
              "<matplotlib.axes._subplots.AxesSubplot at 0x7f42cacbab50>"
            ]
          },
          "metadata": {
            "tags": []
          },
          "execution_count": 97
        },
        {
          "output_type": "display_data",
          "data": {
            "image/png": "[encoded data removed]",
            "text/plain": [
              "<Figure size 432x288 with 2 Axes>"
            ]
          },
          "metadata": {
            "tags": [],
            "needs_background": "light"
          }
        }
      ]
    }
  ]
}